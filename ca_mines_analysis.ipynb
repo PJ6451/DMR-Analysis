{
 "cells": [
  {
   "cell_type": "markdown",
   "metadata": {},
   "source": [
    "# Imports"
   ]
  },
  {
   "cell_type": "code",
   "execution_count": 2,
   "metadata": {},
   "outputs": [],
   "source": [
    "import polars as pl\n",
    "import numpy as np\n",
    "import folium\n",
    "import utils"
   ]
  },
  {
   "cell_type": "markdown",
   "metadata": {},
   "source": [
    "# Read Data"
   ]
  },
  {
   "cell_type": "code",
   "execution_count": 3,
   "metadata": {},
   "outputs": [],
   "source": [
    "mines_csv = pl.read_csv(\n",
    "    r\"C:\\Users\\16617\\Desktop\\Code_Library\\DMR Analysis\\DMR_All_Mines.csv\",\n",
    "    ignore_errors=True,\n",
    ")"
   ]
  },
  {
   "cell_type": "markdown",
   "metadata": {},
   "source": [
    "# Clean and Filter Data"
   ]
  },
  {
   "cell_type": "code",
   "execution_count": 70,
   "metadata": {},
   "outputs": [],
   "source": [
    "mines_csv = mines_csv[utils.get_cols_to_keep()]\n",
    "\n",
    "active_open_pit_mines = mines_csv.filter(\n",
    "    (pl.col(\"MineStatus\").str.contains(\"ACTIVE\"))\n",
    "    & (pl.col(\"Opt_Type\").str.contains(\"OPEN PIT\"))\n",
    "    & (~pl.col(\"PriProduct\").str.contains(\"NOT REPORT\"))\n",
    ")\n",
    "\n",
    "holloway = active_open_pit_mines.filter(pl.col(\"Operator\").str.contains(\"HOLLOWAY\"))\n",
    "\n",
    "labels, index = np.unique(\n",
    "    active_open_pit_mines.select(pl.col(\"PriProduct\")).to_numpy().squeeze(),\n",
    "    return_inverse=True,\n",
    ")\n",
    "\n",
    "colors = [\n",
    "    'red',\n",
    "    'blue',\n",
    "    'black',\n",
    "    'darkgreen',\n",
    "    'darkblue',\n",
    "    'darkpurple',\n",
    "    'red',\n",
    "    'blue',\n",
    "    'black',\n",
    "    'darkgreen',\n",
    "    'darkblue',\n",
    "    'darkpurple',\n",
    "    'red',\n",
    "    'blue',\n",
    "    'black',\n",
    "    'darkgreen',\n",
    "    'darkblue',\n",
    "    'darkpurple',\n",
    "    'red',\n",
    "    'blue',\n",
    "    'black',\n",
    "    'darkgreen',\n",
    "    'darkblue',\n",
    "    'darkpurple',\n",
    "    'red',\n",
    "]\n",
    "\n",
    "color_dict = {labels[i]: color for i, color in enumerate(colors)}\n",
    "active_open_pit_mines = active_open_pit_mines.with_columns(pl.col(\"PriProduct\").map_dict(color_dict).alias(\"color\"))\n"
   ]
  },
  {
   "cell_type": "markdown",
   "metadata": {},
   "source": [
    "# Plot Data"
   ]
  },
  {
   "cell_type": "code",
   "execution_count": 76,
   "metadata": {},
   "outputs": [],
   "source": [
    "m = folium.Map([35, -119], zoom_start=8)\n",
    "for name, mine in active_open_pit_mines.groupby(\"Mine_ID\"):\n",
    "    folium.CircleMarker(\n",
    "        location = [mine[\"Latitude\"].to_list()[0],mine[\"Longitude\"].to_list()[0]],\n",
    "        radius=5,\n",
    "        color=mine[\"color\"].to_list()[0],\n",
    "        fill_color = mine[\"color\"].to_list()[0],\n",
    "        tooltip=mine[\"PriProduct\"].to_list()[0],\n",
    "        popup=mine[\"Operator\"].to_list()[0],\n",
    "    ).add_to(m)\n",
    "\n",
    "folium.Marker(\n",
    "        location = [holloway[\"Latitude\"].to_list()[0],holloway[\"Longitude\"].to_list()[0]],\n",
    "        tooltip=holloway[\"PriProduct\"].to_list()[0],\n",
    "        popup=holloway[\"Operator\"].to_list()[0],\n",
    "        icon=folium.Icon(color=\"green\")\n",
    "    ).add_to(m)\n",
    "\n",
    "m.save(f'dmr_map.html')"
   ]
  }
 ],
 "metadata": {
  "kernelspec": {
   "display_name": "Python 3",
   "language": "python",
   "name": "python3"
  },
  "language_info": {
   "codemirror_mode": {
    "name": "ipython",
    "version": 3
   },
   "file_extension": ".py",
   "mimetype": "text/x-python",
   "name": "python",
   "nbconvert_exporter": "python",
   "pygments_lexer": "ipython3",
   "version": "3.10.0"
  },
  "orig_nbformat": 4
 },
 "nbformat": 4,
 "nbformat_minor": 2
}
